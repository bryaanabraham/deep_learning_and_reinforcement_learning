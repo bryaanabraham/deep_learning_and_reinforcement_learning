{
  "nbformat": 4,
  "nbformat_minor": 0,
  "metadata": {
    "colab": {
      "provenance": [],
      "authorship_tag": "ABX9TyNJYkWX/iYSKW0PfPyVeTvq",
      "include_colab_link": true
    },
    "kernelspec": {
      "name": "python3",
      "display_name": "Python 3"
    },
    "language_info": {
      "name": "python"
    }
  },
  "cells": [
    {
      "cell_type": "markdown",
      "metadata": {
        "id": "view-in-github",
        "colab_type": "text"
      },
      "source": [
        "<a href=\"https://colab.research.google.com/github/bryaanabraham/deep_learning_and_reinforcement_learning/blob/main/Digit_Recognition.ipynb\" target=\"_parent\"><img src=\"https://colab.research.google.com/assets/colab-badge.svg\" alt=\"Open In Colab\"/></a>"
      ]
    },
    {
      "cell_type": "markdown",
      "source": [],
      "metadata": {
        "id": "S7Tmrul8HvzA"
      }
    },
    {
      "cell_type": "code",
      "execution_count": 9,
      "metadata": {
        "id": "RYnM3uLjW63r"
      },
      "outputs": [],
      "source": [
        "import warnings\n",
        "warnings.simplefilter('ignore')\n",
        "\n",
        "import numpy as np\n",
        "import matplotlib.pyplot as plt\n",
        "import pandas as pd\n",
        "import random\n",
        "\n",
        "from sklearn.neural_network import MLPClassifier\n",
        "from sklearn.model_selection import RandomizedSearchCV\n",
        "from sklearn.metrics import accuracy_score, classification_report"
      ]
    },
    {
      "cell_type": "markdown",
      "source": [
        "####warnings.simplefilter('ignore'):\n",
        "\n",
        "This line of code is using the simplefilter function from the warnings module to change the behavior of how warnings are handled.\n",
        "'ignore' is a parameter passed to simplefilter, which means that the code is instructing Python to ignore (or suppress) all warning messages that are issued after this line is executed.\n",
        "Essentially, it tells Python not to display warning messages to the console or take any default action in response to warnings."
      ],
      "metadata": {
        "id": "4IHrf0TcZkSJ"
      }
    },
    {
      "cell_type": "markdown",
      "source": [
        "#### MLPClassifier:\n",
        "\n",
        "MLPClassifier stands for Multi-Layer Perceptron Classifier, which is a type of artificial neural network used for classification tasks.\n",
        "You can use it to create neural network models with multiple layers (input, hidden, and output) to learn complex patterns in your data.\n",
        "\n",
        "#### RandomizedSearchCV:\n",
        "\n",
        "RandomizedSearchCV is a utility for hyperparameter tuning in scikit-learn. It helps you search over a range of hyperparameters in a randomized fashion.\n",
        "You provide it with a parameter grid or distribution, and it samples hyperparameters to fit and evaluate models for different combinations.\n",
        "This is useful for finding the best hyperparameters that yield the highest model performance.\n",
        "\n",
        "#### classification_report:\n",
        "\n",
        "classification_report is a function that provides a detailed summary of classification metrics.\n",
        "It includes metrics like precision, recall, F1-score, and support for each class in a multi-class classification problem.\n",
        "This report is valuable for assessing the performance of a classification model beyond just accuracy."
      ],
      "metadata": {
        "id": "lx_jxMtJYwVI"
      }
    },
    {
      "cell_type": "code",
      "source": [
        "digits = pd.read_csv(\"https://cf-courses-data.s3.us.cloud-object-storage.appdomain.cloud/IBMDeveloperSkillsNetwork-ML311-Coursera/labs/Module1/L1/data/digits.csv\")\n",
        "\n",
        "labels = digits['label']\n",
        "digits = np.array(digits.drop('label', axis=1)).astype('float')\n",
        "digits.shape, labels.shape"
      ],
      "metadata": {
        "colab": {
          "base_uri": "https://localhost:8080/"
        },
        "id": "gijEpviaZtLQ",
        "outputId": "4e2f4879-07c6-4c2e-b773-2f8802a32e85"
      },
      "execution_count": 10,
      "outputs": [
        {
          "output_type": "execute_result",
          "data": {
            "text/plain": [
              "((42000, 784), (42000,))"
            ]
          },
          "metadata": {},
          "execution_count": 10
        }
      ]
    },
    {
      "cell_type": "markdown",
      "source": [
        "#### #**digits = np.array(digits.drop('label', axis=1)).astype('float'):**\n",
        "\n",
        "This line of code is doing several operations in sequence:<br>\n",
        "**digits.drop('label', axis=1)**: It removes the 'label' column from the 'digits' DataFrame along the specified axis (axis=1 means columns).<br>\n",
        "**np.array(...)**: It converts the resulting DataFrame (without the 'label' column) into a NumPy array.<br>\n",
        "**.astype('float')**: It converts the data type of all elements in the NumPy array to floating-point numbers.<br>\n",
        "After these operations, 'digits' contains the feature data for the handwritten digits as a NumPy array with floating-point values."
      ],
      "metadata": {
        "id": "uHG8kcxQcEou"
      }
    },
    {
      "cell_type": "code",
      "source": [
        "plt.figure(figsize=(8,8))\n",
        "for i in range(5):\n",
        "    plt.subplot(1, 5, i+1)\n",
        "    plt.imshow(random.choice(digits).reshape(28,28))\n",
        "    plt.axis(\"off\")"
      ],
      "metadata": {
        "colab": {
          "base_uri": "https://localhost:8080/",
          "height": 143
        },
        "id": "xwzBNrsndP8u",
        "outputId": "e544e403-430f-4941-9ddb-700d8aaaf7e7"
      },
      "execution_count": 20,
      "outputs": [
        {
          "output_type": "display_data",
          "data": {
            "text/plain": [
              "<Figure size 800x800 with 5 Axes>"
            ],
            "image/png": "[encoded data removed]"
          },
          "metadata": {}
        }
      ]
    },
    {
      "cell_type": "markdown",
      "source": [
        "#### plt.figure(figsize=(12,4)):\n",
        "\n",
        "This line initializes a new figure for plotting with a specified size of 12 inches in width and 4 inches in height.\n",
        "The figsize parameter controls the dimensions of the figure.\n",
        "\n",
        "#### for i in range(5):\n",
        "\n",
        "This is a for loop that iterates 5 times, creating 5 subplots for displaying images.\n",
        "\n",
        "#### plt.subplot(1, 5, i+1):\n",
        "\n",
        "Inside the loop, this line sets up a subplot within the figure. It specifies that there is 1 row and 5 columns of subplots (i.e., a row of 5 subplots), and it selects the i+1-th subplot for the current iteration.\n",
        "The i+1 index is used because subplot indexing starts from 1.\n",
        "\n",
        "#### plt.imshow(random.choice(digits).reshape(28,28)):\n",
        "\n",
        "This line displays an image within the current subplot.\n",
        "random.choice(digits) randomly selects one item (presumably an image) from the 'digits' dataset. This assumes that each item in 'digits' represents an image.\n",
        ".reshape(28,28) reshapes the selected image to be a 28x28 pixel grid. This is commonly used for displaying images with dimensions like those of handwritten digits.\n",
        "plt.imshow(...) displays the reshaped image within the current subplot.\n",
        "\n",
        "####plt.axis(\"off\"):\n",
        "\n",
        "This line turns off the axis labels and ticks for the current subplot.\n",
        "It's commonly used for displaying images without the default axis labels, which are not needed when showing images."
      ],
      "metadata": {
        "id": "-iP9UB_ifSjQ"
      }
    },
    {
      "cell_type": "code",
      "source": [
        "split = 0.7, 0.3 # train, test\n",
        "# normalize data\n",
        "digits /= 255.0\n",
        "\n",
        "split_ind = int(len(digits)*split[0])\n",
        "X_train, X_test, y_train, y_test = digits[:split_ind], digits[split_ind:], labels[:split_ind], labels[split_ind:]\n",
        "X_train.shape, X_test.shape"
      ],
      "metadata": {
        "colab": {
          "base_uri": "https://localhost:8080/"
        },
        "id": "g7ZLRPdwfpXS",
        "outputId": "b964cbaa-f20c-4265-9cf5-5c502e9eea9d"
      },
      "execution_count": 12,
      "outputs": [
        {
          "output_type": "execute_result",
          "data": {
            "text/plain": [
              "((29399, 784), (12601, 784))"
            ]
          },
          "metadata": {},
          "execution_count": 12
        }
      ]
    },
    {
      "cell_type": "markdown",
      "source": [
        "####digits /= 255.0:\n",
        "This line normalizes the data in the digits array.\n",
        "Each element of the digits array is divided by 255.0. This is a common technique for normalizing pixel values in image data. Pixel values in grayscale images typically range from 0 (black) to 255 (white), so dividing by 255 scales them to the range [0, 1]\n",
        "\n",
        "####split_ind = int(len(digits)*split[0]):\n",
        "This line calculates the index at which to split the dataset into training and testing sets.\n",
        "len(digits) returns the total number of samples in the digits array.\n",
        "split[0] is the first element of the split tuple, which is 0.7 (70% for training)."
      ],
      "metadata": {
        "id": "-sok41e_hiFX"
      }
    },
    {
      "cell_type": "code",
      "source": [
        "model = MLPClassifier().fit(X_train, y_train)\n",
        "y_pred = model.predict(X_test)\n",
        "\n",
        "print(f\"Using MLPClassifier with the default parameter values gives an accuracy of {accuracy_score(y_pred, y_test)}\")\n",
        "plt.figure(figsize=(8,8))\n",
        "for i in range(10):\n",
        "    plt.subplot(2, 5, i+1)\n",
        "    sample = random.choice(X_test)\n",
        "    plt.imshow(sample.reshape(28,28))\n",
        "    pred = model.predict(sample.reshape(1,-1))\n",
        "    plt.title(f\"Predicted as {pred}\")\n",
        "    plt.axis(\"off\")\n",
        "\n",
        "plt.tight_layout()"
      ],
      "metadata": {
        "colab": {
          "base_uri": "https://localhost:8080/",
          "height": 535
        },
        "id": "ItxduhtBiIpo",
        "outputId": "300fea6e-5f83-4119-e559-0e24149af14b"
      },
      "execution_count": 25,
      "outputs": [
        {
          "output_type": "stream",
          "name": "stdout",
          "text": [
            "Using MLPClassifier with the default parameter values gives an accuracy of 0.9726212205380526\n"
          ]
        },
        {
          "output_type": "display_data",
          "data": {
            "text/plain": [
              "<Figure size 800x800 with 10 Axes>"
            ],
            "image/png": "[encoded data removed]"
          },
          "metadata": {}
        }
      ]
    },
    {
      "cell_type": "markdown",
      "source": [
        "**Precision**: Precision is the ratio of true positives to the sum of true positives and false positives. It measures how many of the predicted positive instances were actually positive. High precision indicates a low false positive rate.\n",
        "\n",
        "**Recall**: Recall is the ratio of true positives to the sum of true positives and false negatives. It measures how many of the actual positive instances were correctly predicted as positive. High recall indicates a low false negative rate.\n",
        "\n",
        "**F1-Score**: The F1-score is the harmonic mean of precision and recall. It provides a balance between precision and recall. It's often used when you want to consider both false positives and false negatives.\n",
        "\n",
        "**Support**: Support is the number of occurrences of each class in the true labels. It provides information about the distribution of classes in the testing data."
      ],
      "metadata": {
        "id": "BcuklRwklUzV"
      }
    },
    {
      "cell_type": "code",
      "source": [
        "print(classification_report(y_pred, y_test))"
      ],
      "metadata": {
        "colab": {
          "base_uri": "https://localhost:8080/"
        },
        "id": "SxNgVKPKk05x",
        "outputId": "e8080fc7-d9c1-41a8-fe44-a916f1aae2c5"
      },
      "execution_count": 14,
      "outputs": [
        {
          "output_type": "stream",
          "name": "stdout",
          "text": [
            "              precision    recall  f1-score   support\n",
            "\n",
            "           0       0.98      0.98      0.98      1270\n",
            "           1       0.99      0.98      0.98      1426\n",
            "           2       0.97      0.98      0.98      1220\n",
            "           3       0.97      0.97      0.97      1310\n",
            "           4       0.97      0.97      0.97      1179\n",
            "           5       0.96      0.97      0.97      1130\n",
            "           6       0.98      0.98      0.98      1233\n",
            "           7       0.98      0.97      0.98      1343\n",
            "           8       0.97      0.97      0.97      1237\n",
            "           9       0.95      0.97      0.96      1253\n",
            "\n",
            "    accuracy                           0.97     12601\n",
            "   macro avg       0.97      0.97      0.97     12601\n",
            "weighted avg       0.97      0.97      0.97     12601\n",
            "\n"
          ]
        }
      ]
    },
    {
      "cell_type": "markdown",
      "source": [
        "As you can see, points in the GridSearch space are evenly distributed; thus projections onto either the important or the unimportant parameter subspace produces the same coverage, which is inefficient as we would want the important parameters to have more coverage in the trials. In contrast, the uneven distribution of points in the RandomSearch space allows the trials to explore many more distinct values in the important parameter space.\n",
        "\n",
        "Since it's hard to know ahead of time which parameter subspaces are more important, performing a parameter search on a strict, even grid would not be ideal or efficient.\n",
        "\n",
        "However, despite the fact that we will use a more efficient search method since we are trying out multiple values for mutiple parameters of a neural network , you should still expect training time to be much longer than training a single model."
      ],
      "metadata": {
        "id": "T40HasZ9lCsG"
      }
    },
    {
      "cell_type": "code",
      "source": [
        "parameters = {'hidden_layer_sizes':[50, 100, 200],\n",
        "              'alpha': [0.001, 0.01, 0.1],\n",
        "              'max_iter': [200, 500, 800],\n",
        "              'learning_rate_init':[0.0001, 0.001, 0.01, 0.1]}\n",
        "\n",
        "model = MLPClassifier()\n",
        "clf = RandomizedSearchCV(estimator=model, param_distributions=parameters, cv=5)\n",
        "clf.fit(X_train[:3000], y_train[:3000]) # reduce the train set size to shorten the training time\n",
        "\n",
        "print(\"The best parameter values found are:\\n\")\n",
        "print(clf.best_params_)\n",
        "\n",
        "# store the best model found in \"bestmodel\"\n",
        "bestmodel = clf.best_estimator_"
      ],
      "metadata": {
        "colab": {
          "base_uri": "https://localhost:8080/"
        },
        "id": "axotR-senlFK",
        "outputId": "09c1af30-29bf-401f-d6ed-f6de9e438660"
      },
      "execution_count": 17,
      "outputs": [
        {
          "output_type": "stream",
          "name": "stdout",
          "text": [
            "The best parameter values found are:\n",
            "\n",
            "{'max_iter': 500, 'learning_rate_init': 0.001, 'hidden_layer_sizes': 200, 'alpha': 0.1}\n"
          ]
        }
      ]
    },
    {
      "cell_type": "markdown",
      "source": [
        "####parameters:\n",
        "This dictionary defines a set of hyperparameters and their corresponding values that you want to search over during hyperparameter tuning. The hyperparameters include:\n",
        "'hidden_layer_sizes': A list of different sizes for the hidden layers of the neural network.\n",
        "'alpha': A list of different values for the regularization parameter alpha.\n",
        "'max_iter': A list of different values for the maximum number of iterations during training.\n",
        "'learning_rate_init': A list of different initial learning rates.\n",
        "\n",
        "####model = MLPClassifier():\n",
        "This line creates an instance of the MLPClassifier with default hyperparameter values. This will serve as the base model for hyperparameter tuning.\n",
        "clf = RandomizedSearchCV(estimator=model,\n",
        "\n",
        "####param_distributions=parameters, cv=5):\n",
        "Here, you're setting up a RandomizedSearchCV object for hyperparameter tuning.\n",
        "estimator is set to the base model (model) that you want to tune.\n",
        "param_distributions is set to the parameters dictionary, which specifies the hyperparameters and their potential values.\n",
        "cv=5 specifies a 5-fold cross-validation, meaning the dataset will be split into 5 subsets, and the training/testing will be performed 5 times, allowing for a robust evaluation of different parameter combinations.\n",
        "\n",
        "####clf.fit(X_train[:3000], y_train[:3000]):\n",
        "This line fits (trains) the RandomizedSearchCV object on a subset of the training data (X_train[:3000], y_train[:3000]) to find the best hyperparameters.\n",
        "By using a subset, you reduce the training time, which can be especially useful for quick experimentation or if the full dataset is very large.\n",
        "\n",
        "####print(clf.best_params_):\n",
        "This line prints the best hyperparameter values found by the RandomizedSearchCV. It retrieves the best parameters from the clf object and prints them.\n",
        "\n",
        "####bestmodel = clf.best_estimator_:\n",
        "This line stores the best model (with the best hyperparameters) found during hyperparameter tuning in the bestmodel variable. This model can be used for further evaluation and predictions."
      ],
      "metadata": {
        "id": "irxtK21zEJTY"
      }
    },
    {
      "cell_type": "code",
      "source": [
        "y_pred = bestmodel.predict(X_test)\n",
        "print(f\"The accuracy score of the best model is {accuracy_score(y_test, y_pred)}\\n\")\n",
        "\n",
        "plt.figure(figsize=(8,8))\n",
        "for i in range(10):\n",
        "    plt.subplot(2, 5, i+1)\n",
        "    sample = random.choice(X_test)\n",
        "    plt.imshow(sample.reshape(28,28))\n",
        "    pred = bestmodel.predict(sample.reshape(1,-1))\n",
        "    plt.title(f\"Predicted as {pred}\")\n",
        "    plt.axis(\"off\")\n",
        "\n",
        "plt.tight_layout()"
      ],
      "metadata": {
        "colab": {
          "base_uri": "https://localhost:8080/",
          "height": 553
        },
        "id": "8Hki__0MpT-8",
        "outputId": "f69ac690-64e3-484f-dc86-58b126c17359"
      },
      "execution_count": 23,
      "outputs": [
        {
          "output_type": "stream",
          "name": "stdout",
          "text": [
            "The accuracy score of the best model is 0.9400841203079121\n",
            "\n"
          ]
        },
        {
          "output_type": "display_data",
          "data": {
            "text/plain": [
              "<Figure size 800x800 with 10 Axes>"
            ],
            "image/png": "[encoded data removed]"
          },
          "metadata": {}
        }
      ]
    }
  ]
}