{
  "nbformat": 4,
  "nbformat_minor": 0,
  "metadata": {
    "colab": {
      "provenance": [],
      "authorship_tag": "ABX9TyOOKctYucSx5XruOHrPhkji",
      "include_colab_link": true
    },
    "kernelspec": {
      "name": "python3",
      "display_name": "Python 3"
    },
    "language_info": {
      "name": "python"
    }
  },
  "cells": [
    {
      "cell_type": "markdown",
      "metadata": {
        "id": "view-in-github",
        "colab_type": "text"
      },
      "source": [
        "<a href=\"https://colab.research.google.com/github/bryaanabraham/deep_learning_and_reinforcement_learning/blob/main/Digit_Recognition.ipynb\" target=\"_parent\"><img src=\"https://colab.research.google.com/assets/colab-badge.svg\" alt=\"Open In Colab\"/></a>"
      ]
    },
    {
      "cell_type": "code",
      "execution_count": 9,
      "metadata": {
        "id": "RYnM3uLjW63r"
      },
      "outputs": [],
      "source": [
        "import warnings\n",
        "warnings.simplefilter('ignore')\n",
        "\n",
        "import numpy as np\n",
        "import matplotlib.pyplot as plt\n",
        "import pandas as pd\n",
        "import random\n",
        "\n",
        "from sklearn.neural_network import MLPClassifier\n",
        "from sklearn.model_selection import RandomizedSearchCV\n",
        "from sklearn.metrics import accuracy_score, classification_report"
      ]
    },
    {
      "cell_type": "markdown",
      "source": [
        "###warnings.simplefilter('ignore'):\n",
        "\n",
        "This line of code is using the simplefilter function from the warnings module to change the behavior of how warnings are handled.\n",
        "'ignore' is a parameter passed to simplefilter, which means that the code is instructing Python to ignore (or suppress) all warning messages that are issued after this line is executed.\n",
        "Essentially, it tells Python not to display warning messages to the console or take any default action in response to warnings."
      ],
      "metadata": {
        "id": "4IHrf0TcZkSJ"
      }
    },
    {
      "cell_type": "markdown",
      "source": [
        "### MLPClassifier:\n",
        "\n",
        "MLPClassifier stands for Multi-Layer Perceptron Classifier, which is a type of artificial neural network used for classification tasks.\n",
        "You can use it to create neural network models with multiple layers (input, hidden, and output) to learn complex patterns in your data.\n",
        "\n",
        "### RandomizedSearchCV:\n",
        "\n",
        "RandomizedSearchCV is a utility for hyperparameter tuning in scikit-learn. It helps you search over a range of hyperparameters in a randomized fashion.\n",
        "You provide it with a parameter grid or distribution, and it samples hyperparameters to fit and evaluate models for different combinations.\n",
        "This is useful for finding the best hyperparameters that yield the highest model performance.\n",
        "\n",
        "### classification_report:\n",
        "\n",
        "classification_report is a function that provides a detailed summary of classification metrics.\n",
        "It includes metrics like precision, recall, F1-score, and support for each class in a multi-class classification problem.\n",
        "This report is valuable for assessing the performance of a classification model beyond just accuracy."
      ],
      "metadata": {
        "id": "lx_jxMtJYwVI"
      }
    },
    {
      "cell_type": "code",
      "source": [
        "digits = pd.read_csv(\"https://cf-courses-data.s3.us.cloud-object-storage.appdomain.cloud/IBMDeveloperSkillsNetwork-ML311-Coursera/labs/Module1/L1/data/digits.csv\")\n",
        "\n",
        "labels = digits['label']\n",
        "digits = np.array(digits.drop('label', axis=1)).astype('float')\n",
        "digits.shape, labels.shape"
      ],
      "metadata": {
        "colab": {
          "base_uri": "https://localhost:8080/"
        },
        "id": "gijEpviaZtLQ",
        "outputId": "4e2f4879-07c6-4c2e-b773-2f8802a32e85"
      },
      "execution_count": 10,
      "outputs": [
        {
          "output_type": "execute_result",
          "data": {
            "text/plain": [
              "((42000, 784), (42000,))"
            ]
          },
          "metadata": {},
          "execution_count": 10
        }
      ]
    },
    {
      "cell_type": "markdown",
      "source": [
        "#### **digits = np.array(digits.drop('label', axis=1)).astype('float'):**\n",
        "\n",
        "This line of code is doing several operations in sequence:<br>\n",
        "**digits.drop('label', axis=1)**: It removes the 'label' column from the 'digits' DataFrame along the specified axis (axis=1 means columns).<br>\n",
        "**np.array(...)**: It converts the resulting DataFrame (without the 'label' column) into a NumPy array.<br>\n",
        "**.astype('float')**: It converts the data type of all elements in the NumPy array to floating-point numbers.<br>\n",
        "After these operations, 'digits' contains the feature data for the handwritten digits as a NumPy array with floating-point values."
      ],
      "metadata": {
        "id": "uHG8kcxQcEou"
      }
    },
    {
      "cell_type": "code",
      "source": [
        "plt.figure(figsize=(12,4))\n",
        "for i in range(5):\n",
        "    plt.subplot(1, 5, i+1)\n",
        "    plt.imshow(random.choice(digits).reshape(28,28))\n",
        "    plt.axis(\"off\")"
      ],
      "metadata": {
        "colab": {
          "base_uri": "https://localhost:8080/",
          "height": 197
        },
        "id": "xwzBNrsndP8u",
        "outputId": "6ddcf05b-6a16-4baf-85b3-03138ece9ee4"
      },
      "execution_count": 11,
      "outputs": [
        {
          "output_type": "display_data",
          "data": {
            "text/plain": [
              "<Figure size 1200x400 with 5 Axes>"
            ],
            "image/png": "[encoded data removed]"
          },
          "metadata": {}
        }
      ]
    },
    {
      "cell_type": "markdown",
      "source": [
        "### plt.figure(figsize=(12,4)):\n",
        "\n",
        "This line initializes a new figure for plotting with a specified size of 12 inches in width and 4 inches in height.\n",
        "The figsize parameter controls the dimensions of the figure.\n",
        "\n",
        "### for i in range(5):\n",
        "\n",
        "This is a for loop that iterates 5 times, creating 5 subplots for displaying images.\n",
        "\n",
        "### plt.subplot(1, 5, i+1):\n",
        "\n",
        "Inside the loop, this line sets up a subplot within the figure. It specifies that there is 1 row and 5 columns of subplots (i.e., a row of 5 subplots), and it selects the i+1-th subplot for the current iteration.\n",
        "The i+1 index is used because subplot indexing starts from 1.\n",
        "\n",
        "### plt.imshow(random.choice(digits).reshape(28,28)):\n",
        "\n",
        "This line displays an image within the current subplot.\n",
        "random.choice(digits) randomly selects one item (presumably an image) from the 'digits' dataset. This assumes that each item in 'digits' represents an image.\n",
        ".reshape(28,28) reshapes the selected image to be a 28x28 pixel grid. This is commonly used for displaying images with dimensions like those of handwritten digits.\n",
        "plt.imshow(...) displays the reshaped image within the current subplot.\n",
        "\n",
        "###plt.axis(\"off\"):\n",
        "\n",
        "This line turns off the axis labels and ticks for the current subplot.\n",
        "It's commonly used for displaying images without the default axis labels, which are not needed when showing images."
      ],
      "metadata": {
        "id": "-iP9UB_ifSjQ"
      }
    },
    {
      "cell_type": "code",
      "source": [
        "split = 0.7, 0.3 # train, test\n",
        "# normalize data\n",
        "digits /= 255.0\n",
        "\n",
        "split_ind = int(len(digits)*split[0])\n",
        "X_train, X_test, y_train, y_test = digits[:split_ind], digits[split_ind:], labels[:split_ind], labels[split_ind:]\n",
        "X_train.shape, X_test.shape"
      ],
      "metadata": {
        "colab": {
          "base_uri": "https://localhost:8080/"
        },
        "id": "g7ZLRPdwfpXS",
        "outputId": "b964cbaa-f20c-4265-9cf5-5c502e9eea9d"
      },
      "execution_count": 12,
      "outputs": [
        {
          "output_type": "execute_result",
          "data": {
            "text/plain": [
              "((29399, 784), (12601, 784))"
            ]
          },
          "metadata": {},
          "execution_count": 12
        }
      ]
    },
    {
      "cell_type": "markdown",
      "source": [
        "###digits /= 255.0:\n",
        "This line normalizes the data in the digits array.\n",
        "Each element of the digits array is divided by 255.0. This is a common technique for normalizing pixel values in image data. Pixel values in grayscale images typically range from 0 (black) to 255 (white), so dividing by 255 scales them to the range [0, 1]\n",
        "\n",
        "###split_ind = int(len(digits)*split[0]):\n",
        "This line calculates the index at which to split the dataset into training and testing sets.\n",
        "len(digits) returns the total number of samples in the digits array.\n",
        "split[0] is the first element of the split tuple, which is 0.7 (70% for training)."
      ],
      "metadata": {
        "id": "-sok41e_hiFX"
      }
    },
    {
      "cell_type": "code",
      "source": [
        "model = MLPClassifier().fit(X_train, y_train)\n",
        "y_pred = model.predict(X_test)\n",
        "\n",
        "print(f\"Using MLPClassifier with the default parameter values gives an accuracy of {accuracy_score(y_pred, y_test)}\")"
      ],
      "metadata": {
        "colab": {
          "base_uri": "https://localhost:8080/"
        },
        "id": "ItxduhtBiIpo",
        "outputId": "58e4ce9f-2a2d-4dd7-b213-e3e408cedf0f"
      },
      "execution_count": 13,
      "outputs": [
        {
          "output_type": "stream",
          "name": "stdout",
          "text": [
            "Using MLPClassifier with the default parameter values gives an accuracy of 0.9731767320053964\n"
          ]
        }
      ]
    }
  ]
}