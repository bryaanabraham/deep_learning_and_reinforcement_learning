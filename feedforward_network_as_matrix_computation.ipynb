{
  "nbformat": 4,
  "nbformat_minor": 0,
  "metadata": {
    "colab": {
      "provenance": [],
      "authorship_tag": "ABX9TyPo1RhPrggnpPuO356svblM",
      "include_colab_link": true
    },
    "kernelspec": {
      "name": "python3",
      "display_name": "Python 3"
    },
    "language_info": {
      "name": "python"
    }
  },
  "cells": [
    {
      "cell_type": "markdown",
      "metadata": {
        "id": "view-in-github",
        "colab_type": "text"
      },
      "source": [
        "<a href=\"https://colab.research.google.com/github/bryaanabraham/deep_learning_and_reinforcement_learning/blob/main/feedforward_network_as_matrix_computation.ipynb\" target=\"_parent\"><img src=\"https://colab.research.google.com/assets/colab-badge.svg\" alt=\"Open In Colab\"/></a>"
      ]
    },
    {
      "cell_type": "code",
      "source": [
        "import warnings\n",
        "warnings.simplefilter('ignore')\n",
        "import numpy as np\n",
        "import matplotlib.pyplot as plt"
      ],
      "metadata": {
        "id": "LI2OF_xzXXh5"
      },
      "execution_count": 25,
      "outputs": []
    },
    {
      "cell_type": "code",
      "source": [
        "def sigmoid(x):\n",
        "    return 1.0 / (1.0 + np.exp(-x))"
      ],
      "metadata": {
        "id": "rLdBX5gZXoQ4"
      },
      "execution_count": 26,
      "outputs": []
    },
    {
      "cell_type": "markdown",
      "source": [
        "Provided below are the following:\n",
        "\n",
        "Three weight matrices W_1, W_2 and W_3 representing the weights in each layer. The convention for these matrices is that each  𝑊𝑖,𝑗\n",
        "  gives the weight from neuron  𝑖\n",
        "  in the previous (left) layer to neuron  𝑗\n",
        "  in the next (right) layer.\n",
        "A vector x_in representing a single input and a matrix x_mat_in representing 7 different inputs.\n",
        "Two functions: soft_max_vec and soft_max_mat which apply the soft_max function to a single vector, and row-wise to a matrix.\n",
        "The goals for this exercise are:\n",
        "\n",
        "For input x_in calculate the inputs and outputs to each layer (assuming sigmoid activations for the middle two layers and soft_max output for the final layer.\n",
        "Write a function that does the entire neural network calculation for a single input\n",
        "Write a function that does the entire neural network calculation for a matrix of inputs, where each row is a single input.\n",
        "Test your functions on x_in and x_mat_in.\n",
        "This illustrates what happens in a NN during one single forward pass. Roughly speaking, after this forward pass, it remains to compare the output of the network to the known truth values, compute the gradient of the loss function and adjust the weight matrices W_1, W_2 and W_3 accordingly, and iterate. Hopefully this process will result in better weight matrices and our loss will be smaller afterwards."
      ],
      "metadata": {
        "id": "BoBIzZvBYodF"
      }
    },
    {
      "cell_type": "code",
      "execution_count": 27,
      "metadata": {
        "colab": {
          "base_uri": "https://localhost:8080/"
        },
        "id": "_6Tf9sjhTdsF",
        "outputId": "8eafb602-8d51-4afb-b3b6-c3bc14659e45"
      },
      "outputs": [
        {
          "output_type": "stream",
          "name": "stdout",
          "text": [
            "the matrix W_1\n",
            "[[ 2 -1  1  4]\n",
            " [-1  2 -3  1]\n",
            " [ 3 -2 -1  5]]\n",
            "------------------------------\n",
            "vector input x_in\n",
            "[0.5 0.8 0.2]\n",
            "------------------------------\n",
            "matrix input x_mat_in -- starts with the vector `x_in`\n",
            "[[0.5 0.8 0.2]\n",
            " [0.1 0.9 0.6]\n",
            " [0.2 0.2 0.3]\n",
            " [0.6 0.1 0.9]\n",
            " [0.5 0.5 0.4]\n",
            " [0.9 0.1 0.9]\n",
            " [0.1 0.8 0.7]]\n"
          ]
        }
      ],
      "source": [
        "W_1 = np.array([[2,-1,1,4],[-1,2,-3,1],[3,-2,-1,5]])\n",
        "W_2 = np.array([[3,1,-2,1],[-2,4,1,-4],[-1,-3,2,-5],[3,1,1,1]])\n",
        "W_3 = np.array([[-1,3,-2],[1,-1,-3],[3,-2,2],[1,2,1]])\n",
        "x_in = np.array([.5,.8,.2])\n",
        "\n",
        "#toy dataset\n",
        "x_mat_in = np.array([[.5,.8,.2],[.1,.9,.6],[.2,.2,.3],\n",
        "                     [.6,.1,.9],[.5,.5,.4],[.9,.1,.9],[.1,.8,.7]])\n",
        "\n",
        "def soft_max_vec(vec):\n",
        "    return np.exp(vec)/(np.sum(np.exp(vec)))\n",
        "\n",
        "def soft_max_mat(mat):\n",
        "    return np.exp(mat)/(np.sum(np.exp(mat),axis=1).reshape(-1,1))\n",
        "\n",
        "print('the matrix W_1')\n",
        "print(W_1)\n",
        "print('-'*30)\n",
        "print('vector input x_in')\n",
        "print(x_in)\n",
        "print ('-'*30)\n",
        "print('matrix input x_mat_in -- starts with the vector `x_in`')\n",
        "print(x_mat_in)"
      ]
    },
    {
      "cell_type": "code",
      "source": [
        "z_2 = np.dot(x_mat_in,W_1)\n",
        "z_2"
      ],
      "metadata": {
        "colab": {
          "base_uri": "https://localhost:8080/"
        },
        "id": "DqOUJuxzW1sM",
        "outputId": "2df13a12-beb5-4cab-9125-12a6455029b7"
      },
      "execution_count": 28,
      "outputs": [
        {
          "output_type": "execute_result",
          "data": {
            "text/plain": [
              "array([[ 0.8,  0.7, -2.1,  3.8],\n",
              "       [ 1.1,  0.5, -3.2,  4.3],\n",
              "       [ 1.1, -0.4, -0.7,  2.5],\n",
              "       [ 3.8, -2.2, -0.6,  7. ],\n",
              "       [ 1.7, -0.3, -1.4,  4.5],\n",
              "       [ 4.4, -2.5, -0.3,  8.2],\n",
              "       [ 1.5,  0.1, -3. ,  4.7]])"
            ]
          },
          "metadata": {},
          "execution_count": 28
        }
      ]
    },
    {
      "cell_type": "code",
      "source": [
        "a_2 = sigmoid(z_2)\n",
        "a_2"
      ],
      "metadata": {
        "colab": {
          "base_uri": "https://localhost:8080/"
        },
        "id": "fXnAmgtQW4wG",
        "outputId": "d6d367bd-0998-407d-b599-9f3d055b4450"
      },
      "execution_count": 29,
      "outputs": [
        {
          "output_type": "execute_result",
          "data": {
            "text/plain": [
              "array([[0.68997448, 0.66818777, 0.10909682, 0.97811873],\n",
              "       [0.75026011, 0.62245933, 0.03916572, 0.98661308],\n",
              "       [0.75026011, 0.40131234, 0.33181223, 0.92414182],\n",
              "       [0.97811873, 0.09975049, 0.35434369, 0.99908895],\n",
              "       [0.84553473, 0.42555748, 0.19781611, 0.98901306],\n",
              "       [0.98787157, 0.07585818, 0.42555748, 0.99972542],\n",
              "       [0.81757448, 0.52497919, 0.04742587, 0.9909867 ]])"
            ]
          },
          "metadata": {},
          "execution_count": 29
        }
      ]
    },
    {
      "cell_type": "code",
      "source": [
        "z_3 = np.dot(a_2,W_2)\n",
        "z_3"
      ],
      "metadata": {
        "colab": {
          "base_uri": "https://localhost:8080/"
        },
        "id": "mK03F50QW6qB",
        "outputId": "c42276fb-fa11-45dc-f813-13cdd68d4adf"
      },
      "execution_count": 30,
      "outputs": [
        {
          "output_type": "execute_result",
          "data": {
            "text/plain": [
              "array([[ 3.55880727,  4.01355384,  0.48455118, -1.55014198],\n",
              "       [ 3.92653518,  4.10921334,  0.18688365, -0.94879275],\n",
              "       [ 3.88876887,  2.2842146 ,  0.4885584 , -1.58990857],\n",
              "       [ 5.37777836,  1.31317855, -0.14871063, -0.19351275],\n",
              "       [ 4.4547123 ,  2.94332939,  0.11913329, -0.8567627 ],\n",
              "       [ 5.38551712,  1.01435726, -0.04904456, -0.44362315],\n",
              "       [ 4.32829928,  3.76620031, -0.02433132, -0.52848494]])"
            ]
          },
          "metadata": {},
          "execution_count": 30
        }
      ]
    },
    {
      "cell_type": "code",
      "source": [
        "a_3 = sigmoid(z_3)\n",
        "a_3"
      ],
      "metadata": {
        "colab": {
          "base_uri": "https://localhost:8080/"
        },
        "id": "VsBfYtn0W8X0",
        "outputId": "62833a63-a1de-4a35-b3fa-316b0e500cf7"
      },
      "execution_count": 31,
      "outputs": [
        {
          "output_type": "execute_result",
          "data": {
            "text/plain": [
              "array([[0.97231549, 0.98225163, 0.61882199, 0.17506576],\n",
              "       [0.98066919, 0.9838446 , 0.54658541, 0.27912767],\n",
              "       [0.9799401 , 0.90756123, 0.61976677, 0.16939676],\n",
              "       [0.99540316, 0.78804456, 0.46289071, 0.45177222],\n",
              "       [0.98850989, 0.94994727, 0.52974815, 0.29801615],\n",
              "       [0.99543843, 0.73387201, 0.48774132, 0.39087798],\n",
              "       [0.98698175, 0.97738352, 0.49391747, 0.37087032]])"
            ]
          },
          "metadata": {},
          "execution_count": 31
        }
      ]
    },
    {
      "cell_type": "code",
      "source": [
        "z_4 = np.dot(a_3,W_3)\n",
        "z_4"
      ],
      "metadata": {
        "colab": {
          "base_uri": "https://localhost:8080/"
        },
        "id": "4ZhX9N3CW-gS",
        "outputId": "8403da18-05cd-4deb-fbdb-cd0b68d68118"
      },
      "execution_count": 32,
      "outputs": [
        {
          "output_type": "execute_result",
          "data": {
            "text/plain": [
              "array([[ 2.04146788,  1.04718238, -3.47867612],\n",
              "       [ 1.92205929,  1.42324752, -3.54057369],\n",
              "       [ 1.9563182 ,  1.13151906, -3.27363361],\n",
              "       [ 1.63308573,  2.17592794, -2.97738636],\n",
              "       [ 1.84869797,  1.55211843, -3.46934914],\n",
              "       [ 1.59253551,  2.05871663, -2.82613226],\n",
              "       [ 1.8430245 ,  1.73746743, -3.5474088 ]])"
            ]
          },
          "metadata": {},
          "execution_count": 32
        }
      ]
    },
    {
      "cell_type": "code",
      "source": [
        "y_out = soft_max_vec(z_4)\n",
        "y_out"
      ],
      "metadata": {
        "colab": {
          "base_uri": "https://localhost:8080/"
        },
        "id": "LnQ2gNb3XAJv",
        "outputId": "cacecbed-703f-4d66-d8df-0a16baa1ad36"
      },
      "execution_count": 33,
      "outputs": [
        {
          "output_type": "execute_result",
          "data": {
            "text/plain": [
              "array([[0.09423345, 0.03486522, 0.00037743],\n",
              "       [0.08362702, 0.05078266, 0.00035478],\n",
              "       [0.08654163, 0.03793319, 0.00046333],\n",
              "       [0.06263931, 0.10779543, 0.00062308],\n",
              "       [0.07771166, 0.05776747, 0.00038097],\n",
              "       [0.06015008, 0.09587296, 0.00072483],\n",
              "       [0.07727201, 0.06953114, 0.00035236]])"
            ]
          },
          "metadata": {},
          "execution_count": 33
        }
      ]
    },
    {
      "cell_type": "markdown",
      "source": [
        "An alternate/shorter method would be:"
      ],
      "metadata": {
        "id": "dIx11YMjes8P"
      }
    },
    {
      "cell_type": "code",
      "source": [
        "def comp_vec(x):\n",
        "    return soft_max_vec(sigmoid(sigmoid(np.dot(x,W_1)).dot(W_2)).dot(W_3))\n",
        "\n",
        "def comp_mat(x):\n",
        "    return soft_max_mat(sigmoid(sigmoid(np.dot(x,W_1)).dot(W_2)).dot(W_3))"
      ],
      "metadata": {
        "id": "ZKqrTlfqXB5s"
      },
      "execution_count": 43,
      "outputs": []
    },
    {
      "cell_type": "code",
      "source": [
        "comp_vec(x_in)"
      ],
      "metadata": {
        "colab": {
          "base_uri": "https://localhost:8080/"
        },
        "id": "XDk506wJXB-T",
        "outputId": "9ec687a7-2b80-442f-e8c0-2e0766781483"
      },
      "execution_count": 41,
      "outputs": [
        {
          "output_type": "execute_result",
          "data": {
            "text/plain": [
              "array([0.72780576, 0.26927918, 0.00291506])"
            ]
          },
          "metadata": {},
          "execution_count": 41
        }
      ]
    },
    {
      "cell_type": "code",
      "source": [
        "comp_mat(x_mat_in)"
      ],
      "metadata": {
        "colab": {
          "base_uri": "https://localhost:8080/"
        },
        "id": "MzYZquIdXGLa",
        "outputId": "55acbea0-27ff-4aed-e5d6-04a038f8d501"
      },
      "execution_count": 44,
      "outputs": [
        {
          "output_type": "execute_result",
          "data": {
            "text/plain": [
              "array([[0.72780576, 0.26927918, 0.00291506],\n",
              "       [0.62054212, 0.37682531, 0.00263257],\n",
              "       [0.69267581, 0.30361576, 0.00370844],\n",
              "       [0.36618794, 0.63016955, 0.00364252],\n",
              "       [0.57199769, 0.4251982 , 0.00280411],\n",
              "       [0.38373781, 0.61163804, 0.00462415],\n",
              "       [0.52510443, 0.4725011 , 0.00239447]])"
            ]
          },
          "metadata": {},
          "execution_count": 44
        }
      ]
    }
  ]
}