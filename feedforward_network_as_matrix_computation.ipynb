{
  "nbformat": 4,
  "nbformat_minor": 0,
  "metadata": {
    "colab": {
      "provenance": [],
      "authorship_tag": "ABX9TyNRQC6CNuuh2K45TY0CPIG8",
      "include_colab_link": true
    },
    "kernelspec": {
      "name": "python3",
      "display_name": "Python 3"
    },
    "language_info": {
      "name": "python"
    }
  },
  "cells": [
    {
      "cell_type": "markdown",
      "metadata": {
        "id": "view-in-github",
        "colab_type": "text"
      },
      "source": [
        "<a href=\"https://colab.research.google.com/github/bryaanabraham/deep_learning_and_reinforcement_learning/blob/main/feedforward_network_as_matrix_computation.ipynb\" target=\"_parent\"><img src=\"https://colab.research.google.com/assets/colab-badge.svg\" alt=\"Open In Colab\"/></a>"
      ]
    },
    {
      "cell_type": "code",
      "source": [
        "import warnings\n",
        "warnings.simplefilter('ignore')\n",
        "import numpy as np\n",
        "import matplotlib.pyplot as plt"
      ],
      "metadata": {
        "id": "LI2OF_xzXXh5"
      },
      "execution_count": 4,
      "outputs": []
    },
    {
      "cell_type": "code",
      "source": [
        "def sigmoid(x):\n",
        "    \"\"\"Sigmoid function\"\"\"\n",
        "    return 1.0 / (1.0 + np.exp(-x))"
      ],
      "metadata": {
        "id": "rLdBX5gZXoQ4"
      },
      "execution_count": 8,
      "outputs": []
    },
    {
      "cell_type": "code",
      "execution_count": 5,
      "metadata": {
        "colab": {
          "base_uri": "https://localhost:8080/"
        },
        "id": "_6Tf9sjhTdsF",
        "outputId": "8df8ed21-ff5b-4fa1-f87c-7d589ca433ab"
      },
      "outputs": [
        {
          "output_type": "stream",
          "name": "stdout",
          "text": [
            "the matrix W_1\n",
            "\n",
            "[[ 2 -1  1  4]\n",
            " [-1  2 -3  1]\n",
            " [ 3 -2 -1  5]]\n",
            "------------------------------\n",
            "vector input x_in\n",
            "\n",
            "[0.5 0.8 0.2]\n",
            "------------------------------\n",
            "matrix input x_mat_in -- starts with the vector `x_in`\n",
            "\n",
            "[[0.5 0.8 0.2]\n",
            " [0.1 0.9 0.6]\n",
            " [0.2 0.2 0.3]\n",
            " [0.6 0.1 0.9]\n",
            " [0.5 0.5 0.4]\n",
            " [0.9 0.1 0.9]\n",
            " [0.1 0.8 0.7]]\n"
          ]
        }
      ],
      "source": [
        "W_1 = np.array([[2,-1,1,4],[-1,2,-3,1],[3,-2,-1,5]])\n",
        "W_2 = np.array([[3,1,-2,1],[-2,4,1,-4],[-1,-3,2,-5],[3,1,1,1]])\n",
        "W_3 = np.array([[-1,3,-2],[1,-1,-3],[3,-2,2],[1,2,1]])\n",
        "x_in = np.array([.5,.8,.2])\n",
        "x_mat_in = np.array([[.5,.8,.2],[.1,.9,.6],[.2,.2,.3],\n",
        "                     [.6,.1,.9],[.5,.5,.4],[.9,.1,.9],[.1,.8,.7]])\n",
        "\n",
        "def soft_max_vec(vec):\n",
        "    return np.exp(vec)/(np.sum(np.exp(vec)))\n",
        "\n",
        "def soft_max_mat(mat):\n",
        "    return np.exp(mat)/(np.sum(np.exp(mat),axis=1).reshape(-1,1))\n",
        "\n",
        "print('the matrix W_1\\n')\n",
        "print(W_1)\n",
        "print('-'*30)\n",
        "print('vector input x_in\\n')\n",
        "print(x_in)\n",
        "print ('-'*30)\n",
        "print('matrix input x_mat_in -- starts with the vector `x_in`\\n')\n",
        "print(x_mat_in)"
      ]
    },
    {
      "cell_type": "code",
      "source": [
        "z_2 = np.dot(x_in,W_1)\n",
        "z_2"
      ],
      "metadata": {
        "colab": {
          "base_uri": "https://localhost:8080/"
        },
        "id": "DqOUJuxzW1sM",
        "outputId": "b225c2ec-f4ba-4f26-b3b2-78829b6e02d6"
      },
      "execution_count": 6,
      "outputs": [
        {
          "output_type": "execute_result",
          "data": {
            "text/plain": [
              "array([ 0.8,  0.7, -2.1,  3.8])"
            ]
          },
          "metadata": {},
          "execution_count": 6
        }
      ]
    },
    {
      "cell_type": "code",
      "source": [
        "a_2 = sigmoid(z_2)\n",
        "a_2"
      ],
      "metadata": {
        "colab": {
          "base_uri": "https://localhost:8080/"
        },
        "id": "fXnAmgtQW4wG",
        "outputId": "4652587f-deb2-4838-c453-f5f5a638c3a7"
      },
      "execution_count": 9,
      "outputs": [
        {
          "output_type": "execute_result",
          "data": {
            "text/plain": [
              "array([0.68997448, 0.66818777, 0.10909682, 0.97811873])"
            ]
          },
          "metadata": {},
          "execution_count": 9
        }
      ]
    },
    {
      "cell_type": "code",
      "source": [
        "z_3 = np.dot(a_2,W_2)\n",
        "z_3"
      ],
      "metadata": {
        "colab": {
          "base_uri": "https://localhost:8080/"
        },
        "id": "mK03F50QW6qB",
        "outputId": "f7b2a179-1235-4a12-9a04-32e4d12cfda5"
      },
      "execution_count": 10,
      "outputs": [
        {
          "output_type": "execute_result",
          "data": {
            "text/plain": [
              "array([ 3.55880727,  4.01355384,  0.48455118, -1.55014198])"
            ]
          },
          "metadata": {},
          "execution_count": 10
        }
      ]
    },
    {
      "cell_type": "code",
      "source": [
        "a_3 = sigmoid(z_3)\n",
        "a_3"
      ],
      "metadata": {
        "colab": {
          "base_uri": "https://localhost:8080/"
        },
        "id": "VsBfYtn0W8X0",
        "outputId": "fd8d005f-71cf-409d-9978-0f29292abd36"
      },
      "execution_count": 11,
      "outputs": [
        {
          "output_type": "execute_result",
          "data": {
            "text/plain": [
              "array([0.97231549, 0.98225163, 0.61882199, 0.17506576])"
            ]
          },
          "metadata": {},
          "execution_count": 11
        }
      ]
    },
    {
      "cell_type": "code",
      "source": [
        "z_4 = np.dot(a_3,W_3)\n",
        "z_4"
      ],
      "metadata": {
        "colab": {
          "base_uri": "https://localhost:8080/"
        },
        "id": "4ZhX9N3CW-gS",
        "outputId": "7a85bd55-2648-4538-9dec-18d314425baf"
      },
      "execution_count": 12,
      "outputs": [
        {
          "output_type": "execute_result",
          "data": {
            "text/plain": [
              "array([ 2.04146788,  1.04718238, -3.47867612])"
            ]
          },
          "metadata": {},
          "execution_count": 12
        }
      ]
    },
    {
      "cell_type": "code",
      "source": [
        "y_out = soft_max_vec(z_4)\n",
        "y_out"
      ],
      "metadata": {
        "colab": {
          "base_uri": "https://localhost:8080/"
        },
        "id": "LnQ2gNb3XAJv",
        "outputId": "364e1a28-f0f7-4e53-88fc-d8ac9137c7ce"
      },
      "execution_count": 13,
      "outputs": [
        {
          "output_type": "execute_result",
          "data": {
            "text/plain": [
              "array([0.72780576, 0.26927918, 0.00291506])"
            ]
          },
          "metadata": {},
          "execution_count": 13
        }
      ]
    },
    {
      "cell_type": "code",
      "source": [
        "def nn_comp_vec(x):\n",
        "    return soft_max_vec(sigmoid(sigmoid(np.dot(x,W_1)).dot(W_2)).dot(W_3))\n",
        "\n",
        "def nn_comp_mat(x):\n",
        "    return soft_max_mat(sigmoid(sigmoid(np.dot(x,W_1)).dot(W_2)).dot(W_3))"
      ],
      "metadata": {
        "id": "ZKqrTlfqXB5s"
      },
      "execution_count": 14,
      "outputs": []
    },
    {
      "cell_type": "code",
      "source": [
        "nn_comp_vec(x_in)"
      ],
      "metadata": {
        "colab": {
          "base_uri": "https://localhost:8080/"
        },
        "id": "XDk506wJXB-T",
        "outputId": "546d8efb-41c7-46f5-9119-0d7a72de036e"
      },
      "execution_count": 15,
      "outputs": [
        {
          "output_type": "execute_result",
          "data": {
            "text/plain": [
              "array([0.72780576, 0.26927918, 0.00291506])"
            ]
          },
          "metadata": {},
          "execution_count": 15
        }
      ]
    },
    {
      "cell_type": "code",
      "source": [
        "nn_comp_mat(x_mat_in)"
      ],
      "metadata": {
        "colab": {
          "base_uri": "https://localhost:8080/"
        },
        "id": "MzYZquIdXGLa",
        "outputId": "38e896f1-ea21-43ef-e574-252e658eac00"
      },
      "execution_count": 16,
      "outputs": [
        {
          "output_type": "execute_result",
          "data": {
            "text/plain": [
              "array([[0.72780576, 0.26927918, 0.00291506],\n",
              "       [0.62054212, 0.37682531, 0.00263257],\n",
              "       [0.69267581, 0.30361576, 0.00370844],\n",
              "       [0.36618794, 0.63016955, 0.00364252],\n",
              "       [0.57199769, 0.4251982 , 0.00280411],\n",
              "       [0.38373781, 0.61163804, 0.00462415],\n",
              "       [0.52510443, 0.4725011 , 0.00239447]])"
            ]
          },
          "metadata": {},
          "execution_count": 16
        }
      ]
    }
  ]
}